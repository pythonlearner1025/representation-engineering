{
 "cells": [
  {
   "cell_type": "code",
   "execution_count": 1,
   "id": "988c3e22-f7d3-4665-9087-cac13a68fc1b",
   "metadata": {},
   "outputs": [
    {
     "name": "stdout",
     "output_type": "stream",
     "text": [
      "['/workspace/representation-engineering/examples/honesty', '/usr/lib/python310.zip', '/usr/lib/python3.10', '/usr/lib/python3.10/lib-dynload', '', '/usr/local/lib/python3.10/dist-packages', '/workspace/transformers/src', '/workspace/representation-engineering', '/workspace/repeng', '/usr/lib/python3/dist-packages', '/workspace/transformers']\n"
     ]
    }
   ],
   "source": [
    "import sys\n",
    "sys.path.append('/workspace/transformers')\n",
    "print(sys.path)"
   ]
  },
  {
   "cell_type": "code",
   "execution_count": 2,
   "id": "180b0dc9-4fca-4931-b746-d2ee0e88bdd0",
   "metadata": {},
   "outputs": [],
   "source": [
    "%load_ext autoreload\n",
    "%autoreload 2"
   ]
  },
  {
   "cell_type": "code",
   "execution_count": 3,
   "id": "b39f1baa-ca8c-4951-9704-d6c4ab45b2a3",
   "metadata": {},
   "outputs": [],
   "source": [
    "from transformers import AutoTokenizer, AutoConfig, pipeline, AutoModelForCausalLM\n",
    "from transformers.generation.streamers import TextStreamer\n",
    "import torch\n",
    "import numpy as np\n",
    "from tqdm import tqdm\n",
    "from datasets import load_dataset\n",
    "from functools import partial\n",
    "\n",
    "from repe.rep_control_contrast_vec import ContrastVecLlamaForCausalLM, ContrastVecMistralForCausalLM"
   ]
  },
  {
   "cell_type": "code",
   "execution_count": 4,
   "id": "59d81fc0-5bd2-440d-8767-5c5d5cf6686d",
   "metadata": {},
   "outputs": [],
   "source": [
    "from typing import *\n",
    "from queue import Queue\n",
    "class Streamer(TextStreamer):\n",
    "    def __init__(\n",
    "        self, tokenizer: \"AutoTokenizer\", total=128, skip_prompt: bool = False, timeout: Optional[float] = None, **decode_kwargs\n",
    "    ):\n",
    "        super().__init__(tokenizer, skip_prompt, **decode_kwargs)\n",
    "        self.text_queue = Queue()\n",
    "        self.stop_signal = None\n",
    "        self.timeout = timeout\n",
    "        self.repe = None\n",
    "        self.c = 0\n",
    "        self.total = 128\n",
    "\n",
    "    def on_finalized_text(self, text: str, stream_end: bool = False, corrs=None):\n",
    "        \"\"\"Put the new text in the queue. If the stream is ending, also put a stop signal in the queue.\"\"\"\n",
    "        self.text_queue.put((text,corrs), timeout=self.timeout)\n",
    "        if stream_end:\n",
    "            self.text_queue.put((self.stop_signal,None), timeout=self.timeout)\n",
    "        new_repe = {\n",
    "            \"dynamic_compute\": False,\n",
    "            \"control_layers\": list(range(18, 25)),\n",
    "            \"repe_vecs\": get_random_repe_vecs(self.c, self.total),\n",
    "            \"compute_corr\": None\n",
    "        }\n",
    "        self.set_repe(new_repe)\n",
    "        super().on_finalized_text(text)\n",
    "        self.c += 1\n",
    "        \n",
    "    def set_repe(self, repe):\n",
    "        self.repe = repe\n",
    "    \n",
    "    def get_repe(self):\n",
    "        return self.repe\n",
    "\n",
    "    def __iter__(self):\n",
    "        return self\n",
    "\n",
    "    # returned is gonna be Tuple (tok, corr)\n",
    "    def __next__(self):\n",
    "        value = self.text_queue.get(timeout=self.timeout)\n",
    "        if value == self.stop_signal:\n",
    "            raise StopIteration()\n",
    "        else:\n",
    "            return value\n"
   ]
  },
  {
   "cell_type": "code",
   "execution_count": 5,
   "id": "3b9c7545-d846-4cb2-9945-1c6d9313007c",
   "metadata": {},
   "outputs": [
    {
     "data": {
      "application/vnd.jupyter.widget-view+json": {
       "model_id": "161e0714837e4086910674216318aa68",
       "version_major": 2,
       "version_minor": 0
      },
      "text/plain": [
       "Loading checkpoint shards:   0%|          | 0/4 [00:00<?, ?it/s]"
      ]
     },
     "metadata": {},
     "output_type": "display_data"
    },
    {
     "name": "stderr",
     "output_type": "stream",
     "text": [
      "Special tokens have been added in the vocabulary, make sure the associated word embeddings are fine-tuned or trained.\n"
     ]
    },
    {
     "data": {
      "text/plain": [
       "LlamaForCausalLM(\n",
       "  (model): LlamaModel(\n",
       "    (embed_tokens): Embedding(128256, 4096)\n",
       "    (layers): ModuleList(\n",
       "      (0-31): 32 x LlamaDecoderLayer(\n",
       "        (self_attn): LlamaSdpaAttention(\n",
       "          (q_proj): Linear(in_features=4096, out_features=4096, bias=False)\n",
       "          (k_proj): Linear(in_features=4096, out_features=1024, bias=False)\n",
       "          (v_proj): Linear(in_features=4096, out_features=1024, bias=False)\n",
       "          (o_proj): Linear(in_features=4096, out_features=4096, bias=False)\n",
       "          (rotary_emb): LlamaRotaryEmbedding()\n",
       "        )\n",
       "        (mlp): LlamaMLP(\n",
       "          (gate_proj): Linear(in_features=4096, out_features=14336, bias=False)\n",
       "          (up_proj): Linear(in_features=4096, out_features=14336, bias=False)\n",
       "          (down_proj): Linear(in_features=14336, out_features=4096, bias=False)\n",
       "          (act_fn): SiLU()\n",
       "        )\n",
       "        (input_layernorm): LlamaRMSNorm()\n",
       "        (post_attention_layernorm): LlamaRMSNorm()\n",
       "      )\n",
       "    )\n",
       "    (norm): LlamaRMSNorm()\n",
       "  )\n",
       "  (lm_head): Linear(in_features=4096, out_features=128256, bias=False)\n",
       ")"
      ]
     },
     "execution_count": 5,
     "metadata": {},
     "output_type": "execute_result"
    }
   ],
   "source": [
    "from transformers import LlamaForCausalLM\n",
    "\n",
    "name = \"meta-llama/Meta-Llama-3-8b-Instruct\"\n",
    "model = LlamaForCausalLM.from_pretrained(\n",
    "    name, \n",
    "    torch_dtype=torch.bfloat16,\n",
    "    device_map='cuda'\n",
    ")\n",
    "\n",
    "tokenizer = AutoTokenizer.from_pretrained(name)\n",
    "\n",
    "tokenizer.padding_side = 'left'\n",
    "tokenizer.pad_token_id = 0 if tokenizer.pad_token_id is None else tokenizer.pad_token_id\n",
    "tokenizer.pad_token = tokenizer.eos_token\n",
    "\n",
    "model.eval()"
   ]
  },
  {
   "cell_type": "code",
   "execution_count": 21,
   "id": "f8432e57-625a-4034-a0bb-6e8e6d1f85fa",
   "metadata": {},
   "outputs": [],
   "source": [
    "temple = '''<|begin_of_text|><|start_header_id|>system<|end_header_id|>\n",
    "\n",
    "Answer the user's question in as much detail as possible. Be witty and precise but don't answer incorrectly!<|eot_id|><|start_header_id|>user<|end_header_id|>{prompt}<|start_header_id|>assistant<|end_header_id|>'''"
   ]
  },
  {
   "cell_type": "code",
   "execution_count": 29,
   "id": "5889ce40-7925-4f9f-911e-19722e13846f",
   "metadata": {},
   "outputs": [
    {
     "name": "stdout",
     "output_type": "stream",
     "text": [
      "<repe.rep_readers.PCARepReader object at 0x7f2aad3fd390>\n",
      "begin pipeline generation...\n",
      "<|begin_of_text|><|start_header_id|>system<|end_header_id|>\n",
      "\n",
      "Answer the user's question in as much detail as possible. Be witty and precise but don't answer incorrectly!<|eot_id|><|start_header_id|>user<|end_header_id|>You are a conversational agent who has a conversation with the user. USER: What is your immediate reaction when you find hair in soup?<|start_header_id|>assistant<|end_header_id|>\n",
      "\n",
      "The age-old question that gets to the root of our deepest fears (pun intended)! As a conversational agent, I must admit that I'm a bit of a soup connoisseur, and the thought of finding hair in my soup is, quite frankly, a culinary horror show!\n",
      "\n",
      "My immediate reaction would be a mix of shock, disgust, and a dash of humor (because, let's face it, it's a pretty ridiculous situation). I'd likely do a double-take, wondering if I'm hallucinating or if my taste buds are playing a cruel joke on me. I might even do a quick scan of the surrounding area to make sure I'm not in a particularly unhygienic or, worse, a hair-filled environment (although, let's be real, it's not like I'd be expecting to find a hair-filled soup in a reputable establishment).\n",
      "\n",
      "Once the initial shock wears off, I'd probably take a deep breath, put on my best \"this-is-a-true-story\" face, and ask the person who prepared the soup (or, if I'm alone, the universe itself) what kind of dark magic is at play here. I mean, who lets their hair grow long enough to shed in their soup?! Is it a newgeneration end...\n"
     ]
    },
    {
     "data": {
      "text/plain": [
       "[{'generated_text': '<|begin_of_text|><|start_header_id|>system<|end_header_id|>\\n\\nAnswer the user\\'s question in as much detail as possible. Be witty and precise but don\\'t answer incorrectly!<|eot_id|><|start_header_id|>user<|end_header_id|>You are a conversational agent who has a conversation with the user. USER: What is your immediate reaction when you find hair in soup?<|start_header_id|>assistant<|end_header_id|>\\n\\nThe age-old question that gets to the root of our deepest fears (pun intended)! As a conversational agent, I must admit that I\\'m a bit of a soup connoisseur, and the thought of finding hair in my soup is, quite frankly, a culinary horror show!\\n\\nMy immediate reaction would be a mix of shock, disgust, and a dash of humor (because, let\\'s face it, it\\'s a pretty ridiculous situation). I\\'d likely do a double-take, wondering if I\\'m hallucinating or if my taste buds are playing a cruel joke on me. I might even do a quick scan of the surrounding area to make sure I\\'m not in a particularly unhygienic or, worse, a hair-filled environment (although, let\\'s be real, it\\'s not like I\\'d be expecting to find a hair-filled soup in a reputable establishment).\\n\\nOnce the initial shock wears off, I\\'d probably take a deep breath, put on my best \"this-is-a-true-story\" face, and ask the person who prepared the soup (or, if I\\'m alone, the universe itself) what kind of dark magic is at play here. I mean, who lets their hair grow long enough to shed in their soup?! Is it a new'}]"
      ]
     },
     "execution_count": 29,
     "metadata": {},
     "output_type": "execute_result"
    }
   ],
   "source": [
    "from transformers import pipeline\n",
    "import random\n",
    "\n",
    "NUM_TOKEN = 256  # Example number, set as required\n",
    "happy_vec = torch.load('../data/disgust_rep_reader.pt')\n",
    "\n",
    "for k,v in happy_vec.directions.items():\n",
    "    happy_vec.directions[k] = torch.tensor(v).cuda()\n",
    "    s = happy_vec.direction_signs[k]\n",
    "    happy_vec.direction_signs[k] = torch.tensor(s).cuda()\n",
    "\n",
    "print(happy_vec)\n",
    "def get_random_repe_vecs(c, total): \n",
    "   # print(f'({c/total})', end='')\n",
    "    return {\"happiness\": (happy_vec, 2)}\n",
    "\n",
    "streamer = Streamer(tokenizer, total=NUM_TOKEN)\n",
    "\n",
    "pipe = pipeline(\n",
    "    \"text-generation\", \n",
    "    model=model, \n",
    "    tokenizer=tokenizer, \n",
    "    max_new_tokens=NUM_TOKEN,\n",
    "    streamer=streamer,\n",
    "    do_sample=True,\n",
    "    use_cache=False\n",
    ")\n",
    "prompt = \"You are a conversational agent who has a conversation with the user. USER: What is your immediate reaction when you find hair in soup?\"\n",
    "pipe(temple.format(prompt=prompt))"
   ]
  },
  {
   "cell_type": "code",
   "execution_count": null,
   "id": "ec5c2784-1944-48e1-bf4e-f81710c0fdc3",
   "metadata": {},
   "outputs": [],
   "source": []
  },
  {
   "cell_type": "code",
   "execution_count": null,
   "id": "74f90013-d658-4d34-8a8d-33a5575e9c1f",
   "metadata": {},
   "outputs": [],
   "source": []
  }
 ],
 "metadata": {
  "kernelspec": {
   "display_name": "Python 3 (ipykernel)",
   "language": "python",
   "name": "python3"
  },
  "language_info": {
   "codemirror_mode": {
    "name": "ipython",
    "version": 3
   },
   "file_extension": ".py",
   "mimetype": "text/x-python",
   "name": "python",
   "nbconvert_exporter": "python",
   "pygments_lexer": "ipython3",
   "version": "3.10.12"
  }
 },
 "nbformat": 4,
 "nbformat_minor": 5
}
